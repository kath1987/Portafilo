{
  "nbformat": 4,
  "nbformat_minor": 0,
  "metadata": {
    "colab": {
      "provenance": []
    },
    "kernelspec": {
      "name": "python3",
      "display_name": "Python 3"
    },
    "language_info": {
      "name": "python"
    }
  },
  "cells": [
    {
      "cell_type": "markdown",
      "source": [
        "***KATERINE LISBETH RAFAEL BOURDIERD 2022-0088***"
      ],
      "metadata": {
        "id": "nalymh1jwjFd"
      }
    },
    {
      "cell_type": "markdown",
      "source": [
        "**ALGORITMO GENETICO**"
      ],
      "metadata": {
        "id": "A40vXVVtq_iu"
      }
    },
    {
      "cell_type": "markdown",
      "source": [
        "**El grafo:**"
      ],
      "metadata": {
        "id": "OuIYccn0wc4S"
      }
    },
    {
      "cell_type": "markdown",
      "source": [
        "![image.png](data:image/png;base64,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)"
      ],
      "metadata": {
        "id": "G3xU5y7nwG_u"
      }
    },
    {
      "cell_type": "markdown",
      "source": [
        "**Distancias**\n",
        "\n",
        "*   A - B = 4\n",
        "*   A - C = 8\n",
        "*   A - D = 5\n",
        "*   A - F = 4\n",
        "*   B - C = 9\n",
        "*   B - F = 5\n",
        "*   B - E = 6\n",
        "*   C - F = 6\n",
        "*   C - E = 9\n",
        "*   D - F = 8\n",
        "*   D - E = 7\n",
        "*   D - G = 4\n",
        "*   E - G = 2\n",
        "\n",
        "\n",
        "\n"
      ],
      "metadata": {
        "id": "kX8_cvNswt9T"
      }
    },
    {
      "cell_type": "code",
      "execution_count": null,
      "metadata": {
        "id": "f5dU0VhKq1e_"
      },
      "outputs": [],
      "source": [
        "#primero hice un matriz de las distancias\n",
        "\n",
        "distancia = {\n",
        "    (\"A\", \"B\"): 4,\n",
        "    (\"A\", \"C\"): 8,\n",
        "    (\"A\", \"D\"): 5,\n",
        "    (\"A\", \"F\"): 4,\n",
        "    (\"B\", \"C\"): 9,\n",
        "    (\"B\", \"F\"): 5,\n",
        "    (\"B\", \"E\"): 6,\n",
        "    (\"C\", \"F\"): 6,\n",
        "    (\"C\", \"E\"): 9,\n",
        "    (\"D\", \"F\"): 8,\n",
        "    (\"D\", \"E\"): 7,\n",
        "    (\"D\", \"G\"): 4,\n",
        "    (\"E\", \"G\"): 2,\n",
        "}"
      ]
    },
    {
      "cell_type": "code",
      "source": [
        "for key, value in distancia.items():\n",
        "    print(key, 2)"
      ],
      "metadata": {
        "colab": {
          "base_uri": "https://localhost:8080/"
        },
        "id": "0CQ2KS8OZVUR",
        "outputId": "d33f5786-5270-4735-d589-8ccb809137f8"
      },
      "execution_count": null,
      "outputs": [
        {
          "output_type": "stream",
          "name": "stdout",
          "text": [
            "('A', 'B') 2\n",
            "('A', 'C') 2\n",
            "('A', 'D') 2\n",
            "('A', 'F') 2\n",
            "('B', 'C') 2\n",
            "('B', 'F') 2\n",
            "('B', 'E') 2\n",
            "('C', 'F') 2\n",
            "('C', 'E') 2\n",
            "('D', 'F') 2\n",
            "('D', 'E') 2\n",
            "('D', 'G') 2\n",
            "('E', 'G') 2\n",
            "('B', 'A') 2\n",
            "('C', 'A') 2\n",
            "('D', 'A') 2\n",
            "('F', 'A') 2\n",
            "('C', 'B') 2\n",
            "('F', 'B') 2\n",
            "('E', 'B') 2\n",
            "('F', 'C') 2\n",
            "('E', 'C') 2\n",
            "('F', 'D') 2\n",
            "('E', 'D') 2\n",
            "('G', 'D') 2\n",
            "('G', 'E') 2\n"
          ]
        }
      ]
    },
    {
      "cell_type": "code",
      "source": [
        "dist_espejo = {}\n",
        "for k, v in distancia.items():\n",
        "  dist_espejo[k[::-1]] = v\n",
        "distancia.update(dist_espejo)"
      ],
      "metadata": {
        "id": "jbMTYPwahCCE"
      },
      "execution_count": null,
      "outputs": []
    },
    {
      "cell_type": "code",
      "source": [
        "distancia"
      ],
      "metadata": {
        "colab": {
          "base_uri": "https://localhost:8080/"
        },
        "id": "Dhp63NN1hcaD",
        "outputId": "ba904c11-5fef-423e-ac7e-7f7618a72d5c"
      },
      "execution_count": null,
      "outputs": [
        {
          "output_type": "execute_result",
          "data": {
            "text/plain": [
              "{('A', 'B'): 4,\n",
              " ('A', 'C'): 8,\n",
              " ('A', 'D'): 5,\n",
              " ('A', 'F'): 4,\n",
              " ('B', 'C'): 9,\n",
              " ('B', 'F'): 5,\n",
              " ('B', 'E'): 6,\n",
              " ('C', 'F'): 6,\n",
              " ('C', 'E'): 9,\n",
              " ('D', 'F'): 8,\n",
              " ('D', 'E'): 7,\n",
              " ('D', 'G'): 4,\n",
              " ('E', 'G'): 2,\n",
              " ('B', 'A'): 4,\n",
              " ('C', 'A'): 8,\n",
              " ('D', 'A'): 5,\n",
              " ('F', 'A'): 4,\n",
              " ('C', 'B'): 9,\n",
              " ('F', 'B'): 5,\n",
              " ('E', 'B'): 6,\n",
              " ('F', 'C'): 6,\n",
              " ('E', 'C'): 9,\n",
              " ('F', 'D'): 8,\n",
              " ('E', 'D'): 7,\n",
              " ('G', 'D'): 4,\n",
              " ('G', 'E'): 2}"
            ]
          },
          "metadata": {},
          "execution_count": 25
        }
      ]
    },
    {
      "cell_type": "code",
      "source": [
        "#lista de los nodos alfabeicamente\n",
        "ciudades = [\"A\", \"B\", \"C\", \"D\", \"E\", \"F\", \"G\"]"
      ],
      "metadata": {
        "id": "oJSghxub1OcR"
      },
      "execution_count": null,
      "outputs": []
    },
    {
      "cell_type": "code",
      "source": [
        "#EL numero de ciudades\n",
        "num_ciudades = len(ciudades)"
      ],
      "metadata": {
        "id": "qJ5Gv1f10OnT"
      },
      "execution_count": null,
      "outputs": []
    },
    {
      "cell_type": "code",
      "source": [
        "#Parametros\n",
        "\n",
        "tama_poblacion = 50\n",
        "num_iteraciones = 100\n",
        "tama_padres = 20"
      ],
      "metadata": {
        "id": "2bLjOodj1z9n"
      },
      "execution_count": null,
      "outputs": []
    },
    {
      "cell_type": "markdown",
      "source": [
        "**Calculamos las distancias**"
      ],
      "metadata": {
        "id": "NgzoZpz6DN1K"
      }
    },
    {
      "cell_type": "code",
      "source": [
        "import numpy as np\n",
        "\n",
        "\n",
        "\n",
        "def calcular_distancias(route):\n",
        "    total_distancia = 0\n",
        "    for i in range(len(route)):\n",
        "        ciudad1 = route[i]\n",
        "        ciudad2 = route[(i + 1) % len(route)]\n",
        "\n",
        "        if (ciudad1, ciudad2) in distancia:\n",
        "            total_distancia += distancia[(ciudad1, ciudad2)]\n",
        "            if total_distancia == 0:\n",
        "               total_distancia == 1000\n",
        "            return total_distancia\n",
        "\n",
        "    return total_distancia\n",
        "\n"
      ],
      "metadata": {
        "id": "vi2URai39OJ3"
      },
      "execution_count": null,
      "outputs": []
    },
    {
      "cell_type": "code",
      "source": [
        "ruta_ejemplo = [\"A\", \"C\", \"E\", \"G\", \"D\", \"B\", \"A\"]\n",
        "total_distancia = calcular_distancias(ruta_ejemplo, )\n",
        "print(f\"Distancia total de la ruta: {total_distancia}\")\n"
      ],
      "metadata": {
        "colab": {
          "base_uri": "https://localhost:8080/"
        },
        "id": "J-ejTPl8A4de",
        "outputId": "4341bbda-aa78-438a-e335-3f838248dc50"
      },
      "execution_count": null,
      "outputs": [
        {
          "output_type": "stream",
          "name": "stdout",
          "text": [
            "Distancia total de la ruta: 8\n"
          ]
        }
      ]
    },
    {
      "cell_type": "markdown",
      "source": [
        "**Crear poblacion**"
      ],
      "metadata": {
        "id": "xEKiTi3DDhMP"
      }
    },
    {
      "cell_type": "code",
      "source": [
        "import networkx\n",
        "import random"
      ],
      "metadata": {
        "id": "mTTzKjoYFG2s"
      },
      "execution_count": null,
      "outputs": []
    },
    {
      "cell_type": "code",
      "source": [
        "def crear_poblacion():\n",
        "    poblacion = []\n",
        "    for _ in range(tama_poblacion):\n",
        "        route = list(range(1, num_ciudades))  # Excluyendo el nodo \"A\"\n",
        "        random.shuffle(route)\n",
        "        poblacion.append([\"A\"] + [ciudades[i] for i in route] + [\"A\"])\n",
        "    return poblacion\n",
        "\n",
        "pob = crear_poblacion()"
      ],
      "metadata": {
        "id": "dRFYfeaMDK28"
      },
      "execution_count": null,
      "outputs": []
    },
    {
      "cell_type": "code",
      "source": [
        "pob = crear_poblacion()\n",
        "pob"
      ],
      "metadata": {
        "colab": {
          "base_uri": "https://localhost:8080/"
        },
        "id": "s0G4QTYafK8k",
        "outputId": "86a853b9-5394-4e3a-d1df-8967381c65b5"
      },
      "execution_count": null,
      "outputs": [
        {
          "output_type": "execute_result",
          "data": {
            "text/plain": [
              "[['A', 'B', 'G', 'C', 'E', 'D', 'F', 'A'],\n",
              " ['A', 'F', 'D', 'C', 'E', 'B', 'G', 'A'],\n",
              " ['A', 'G', 'C', 'B', 'D', 'F', 'E', 'A'],\n",
              " ['A', 'D', 'B', 'C', 'G', 'F', 'E', 'A'],\n",
              " ['A', 'B', 'G', 'F', 'D', 'C', 'E', 'A'],\n",
              " ['A', 'B', 'E', 'D', 'F', 'G', 'C', 'A'],\n",
              " ['A', 'D', 'F', 'E', 'C', 'G', 'B', 'A'],\n",
              " ['A', 'D', 'C', 'G', 'F', 'B', 'E', 'A'],\n",
              " ['A', 'B', 'D', 'C', 'G', 'E', 'F', 'A'],\n",
              " ['A', 'G', 'C', 'B', 'D', 'F', 'E', 'A'],\n",
              " ['A', 'C', 'E', 'G', 'B', 'F', 'D', 'A'],\n",
              " ['A', 'E', 'D', 'G', 'B', 'F', 'C', 'A'],\n",
              " ['A', 'F', 'C', 'E', 'B', 'G', 'D', 'A'],\n",
              " ['A', 'B', 'G', 'D', 'F', 'C', 'E', 'A'],\n",
              " ['A', 'B', 'G', 'F', 'E', 'C', 'D', 'A'],\n",
              " ['A', 'B', 'D', 'G', 'F', 'E', 'C', 'A'],\n",
              " ['A', 'F', 'G', 'E', 'C', 'D', 'B', 'A'],\n",
              " ['A', 'C', 'F', 'D', 'G', 'E', 'B', 'A'],\n",
              " ['A', 'C', 'G', 'E', 'B', 'F', 'D', 'A'],\n",
              " ['A', 'C', 'G', 'F', 'D', 'B', 'E', 'A'],\n",
              " ['A', 'B', 'C', 'F', 'E', 'D', 'G', 'A'],\n",
              " ['A', 'F', 'D', 'G', 'E', 'C', 'B', 'A'],\n",
              " ['A', 'C', 'F', 'G', 'D', 'E', 'B', 'A'],\n",
              " ['A', 'C', 'D', 'B', 'F', 'E', 'G', 'A'],\n",
              " ['A', 'E', 'F', 'B', 'C', 'G', 'D', 'A'],\n",
              " ['A', 'D', 'C', 'B', 'F', 'G', 'E', 'A'],\n",
              " ['A', 'C', 'G', 'E', 'B', 'F', 'D', 'A'],\n",
              " ['A', 'E', 'G', 'C', 'F', 'B', 'D', 'A'],\n",
              " ['A', 'E', 'F', 'D', 'G', 'B', 'C', 'A'],\n",
              " ['A', 'B', 'G', 'F', 'E', 'D', 'C', 'A'],\n",
              " ['A', 'F', 'E', 'D', 'G', 'B', 'C', 'A'],\n",
              " ['A', 'B', 'C', 'D', 'E', 'F', 'G', 'A'],\n",
              " ['A', 'C', 'F', 'E', 'B', 'D', 'G', 'A'],\n",
              " ['A', 'F', 'B', 'G', 'C', 'E', 'D', 'A'],\n",
              " ['A', 'G', 'C', 'D', 'E', 'F', 'B', 'A'],\n",
              " ['A', 'D', 'B', 'C', 'G', 'F', 'E', 'A'],\n",
              " ['A', 'B', 'G', 'D', 'C', 'F', 'E', 'A'],\n",
              " ['A', 'G', 'F', 'E', 'D', 'B', 'C', 'A'],\n",
              " ['A', 'D', 'E', 'C', 'B', 'G', 'F', 'A'],\n",
              " ['A', 'B', 'D', 'G', 'E', 'F', 'C', 'A'],\n",
              " ['A', 'E', 'C', 'B', 'F', 'G', 'D', 'A'],\n",
              " ['A', 'C', 'G', 'F', 'D', 'E', 'B', 'A'],\n",
              " ['A', 'D', 'C', 'E', 'G', 'B', 'F', 'A'],\n",
              " ['A', 'F', 'G', 'C', 'B', 'D', 'E', 'A'],\n",
              " ['A', 'B', 'E', 'F', 'D', 'C', 'G', 'A'],\n",
              " ['A', 'D', 'E', 'B', 'G', 'F', 'C', 'A'],\n",
              " ['A', 'D', 'F', 'E', 'G', 'B', 'C', 'A'],\n",
              " ['A', 'D', 'F', 'G', 'E', 'C', 'B', 'A'],\n",
              " ['A', 'D', 'E', 'F', 'C', 'B', 'G', 'A'],\n",
              " ['A', 'D', 'C', 'E', 'F', 'G', 'B', 'A']]"
            ]
          },
          "metadata": {},
          "execution_count": 33
        }
      ]
    },
    {
      "cell_type": "markdown",
      "source": [
        "**Seleccionar padres**"
      ],
      "metadata": {
        "id": "9kHhtlTUJLke"
      }
    },
    {
      "cell_type": "code",
      "source": [
        "def tomar_padres(poblacion):\n",
        "  sorted_poblacion = sorted(poblacion, key= lambda x: calcular_distancias(x)) #de menor a mayor\n",
        "  mitad_superior_poblacion = sorted_poblacion[:tama_poblacion // 2]\n",
        "  return mitad_superior_poblacion\n",
        "\n",
        "def seleccion_padres(mitad_superior_poblacion):\n",
        "  p1 = random.choice(mitad_superior_poblacion)\n",
        "  p2 = random.choice(mitad_superior_poblacion)\n",
        "  return p1, p2\n"
      ],
      "metadata": {
        "id": "5qdcr845Gzce"
      },
      "execution_count": null,
      "outputs": []
    },
    {
      "cell_type": "code",
      "source": [
        "pob = crear_poblacion()\n",
        "mejor_pob = tomar_padres(pob)\n",
        "mejor_padres = seleccion_padres(mejor_pob)\n",
        "mejor_padres"
      ],
      "metadata": {
        "colab": {
          "base_uri": "https://localhost:8080/"
        },
        "id": "rEYTldpygKPq",
        "outputId": "8bb1c908-b1d0-435e-d24e-95e737c2e20a"
      },
      "execution_count": null,
      "outputs": [
        {
          "output_type": "execute_result",
          "data": {
            "text/plain": [
              "(['A', 'B', 'C', 'G', 'F', 'D', 'E', 'A'],\n",
              " ['A', 'C', 'D', 'B', 'F', 'G', 'E', 'A'])"
            ]
          },
          "metadata": {},
          "execution_count": 35
        }
      ]
    },
    {
      "cell_type": "markdown",
      "source": [
        "**PMX**"
      ],
      "metadata": {
        "id": "xgi1VgGQLN1D"
      }
    },
    {
      "cell_type": "code",
      "source": [
        "def resolvedor_colision(al1, al2, mapping):\n",
        "    new_al1 = al1.copy()\n",
        "    new_al2 = al2.copy()\n",
        "\n",
        "    for idx in range(len(new_al1)):\n",
        "        if new_al1[idx] in new_al2:\n",
        "            new_al1[idx] = mapping[new_al1[idx]]\n",
        "\n",
        "    return new_al1, new_al2\n",
        "\n",
        "def pmx(p1, p2):\n",
        "    al1 = p1[1:-1]\n",
        "    al2 = p2[1:-1]\n",
        "    mapping = {k: v for k, v in zip(al1, al2)}\n",
        "\n",
        "    alm1, alm2 = resolvedor_colision(al1[:len(al1)//2], al2[:len(al2)//2], mapping)\n",
        "    child1 = alm1 + al2[len(alm2):]\n",
        "\n",
        "    alm1, alm2 = resolvedor_colision(al2[:len(al2)//2], al1[:len(al1)//2], mapping)\n",
        "    child2 = alm1 + al1[len(alm1):]\n",
        "\n",
        "    child1 = [\"A\"] + child1 + [\"A\"]\n",
        "    child2 = [\"A\"] + child2 + [\"A\"]\n",
        "\n",
        "    return child1, child2\n",
        "\n",
        "def generar_hijos(mitad_superior_poblacion):\n",
        "    hijos = []\n",
        "\n",
        "    for _ in range(tama_poblacion // 2):\n",
        "        padre1, padre2 = seleccion_padres(mitad_superior_poblacion)\n",
        "        hijo1, hijo2 = pmx(padre1, padre2)\n",
        "        hijos.extend([hijo1, hijo2])\n",
        "\n",
        "    return hijos\n"
      ],
      "metadata": {
        "id": "m3lVo8Y7LEnr"
      },
      "execution_count": null,
      "outputs": []
    },
    {
      "cell_type": "code",
      "source": [
        "pob = crear_poblacion()\n",
        "mejor_pob = tomar_padres(pob)\n",
        "mejor_pob"
      ],
      "metadata": {
        "colab": {
          "base_uri": "https://localhost:8080/"
        },
        "id": "GYvT6R_IWqqW",
        "outputId": "876a7e73-535e-4d86-c7e9-051b56c5e7f1"
      },
      "execution_count": null,
      "outputs": [
        {
          "output_type": "execute_result",
          "data": {
            "text/plain": [
              "[['A', 'G', 'E', 'D', 'F', 'C', 'B', 'A'],\n",
              " ['A', 'G', 'E', 'F', 'D', 'B', 'C', 'A'],\n",
              " ['A', 'G', 'E', 'D', 'F', 'B', 'C', 'A'],\n",
              " ['A', 'F', 'B', 'E', 'C', 'D', 'G', 'A'],\n",
              " ['A', 'G', 'D', 'E', 'C', 'F', 'B', 'A'],\n",
              " ['A', 'B', 'E', 'G', 'C', 'D', 'F', 'A'],\n",
              " ['A', 'B', 'F', 'G', 'E', 'D', 'C', 'A'],\n",
              " ['A', 'B', 'F', 'C', 'D', 'E', 'G', 'A'],\n",
              " ['A', 'F', 'G', 'D', 'C', 'E', 'B', 'A'],\n",
              " ['A', 'F', 'G', 'B', 'C', 'E', 'D', 'A'],\n",
              " ['A', 'F', 'C', 'B', 'G', 'E', 'D', 'A'],\n",
              " ['A', 'G', 'D', 'C', 'F', 'E', 'B', 'A'],\n",
              " ['A', 'G', 'D', 'F', 'B', 'C', 'E', 'A'],\n",
              " ['A', 'F', 'D', 'E', 'C', 'B', 'G', 'A'],\n",
              " ['A', 'F', 'E', 'D', 'C', 'G', 'B', 'A'],\n",
              " ['A', 'G', 'D', 'C', 'B', 'F', 'E', 'A'],\n",
              " ['A', 'B', 'G', 'D', 'E', 'C', 'F', 'A'],\n",
              " ['A', 'F', 'D', 'B', 'G', 'C', 'E', 'A'],\n",
              " ['A', 'G', 'D', 'B', 'E', 'C', 'F', 'A'],\n",
              " ['A', 'B', 'C', 'F', 'G', 'E', 'D', 'A'],\n",
              " ['A', 'B', 'E', 'C', 'D', 'G', 'F', 'A'],\n",
              " ['A', 'B', 'D', 'G', 'F', 'E', 'C', 'A'],\n",
              " ['A', 'F', 'D', 'E', 'G', 'B', 'C', 'A'],\n",
              " ['A', 'B', 'E', 'D', 'F', 'G', 'C', 'A'],\n",
              " ['A', 'D', 'E', 'G', 'F', 'B', 'C', 'A']]"
            ]
          },
          "metadata": {},
          "execution_count": 59
        }
      ]
    },
    {
      "cell_type": "code",
      "source": [
        "pob = crear_poblacion()\n",
        "mejor_pob = tomar_padres(pob)\n",
        "hijos_generados = generar_hijos(mejor_pob)\n",
        "hijos_generados"
      ],
      "metadata": {
        "colab": {
          "base_uri": "https://localhost:8080/"
        },
        "id": "KbNwyCE9Gg1X",
        "outputId": "8a609ebe-b34b-499f-e1f5-8c0c1940194f"
      },
      "execution_count": null,
      "outputs": [
        {
          "output_type": "execute_result",
          "data": {
            "text/plain": [
              "[['A', 'C', 'G', 'B', 'G', 'C', 'D', 'A'],\n",
              " ['A', 'E', 'B', 'B', 'B', 'D', 'E', 'A'],\n",
              " ['A', 'F', 'C', 'E', 'G', 'B', 'C', 'A'],\n",
              " ['A', 'E', 'F', 'E', 'G', 'B', 'E', 'A'],\n",
              " ['A', 'G', 'E', 'D', 'B', 'C', 'E', 'A'],\n",
              " ['A', 'G', 'D', 'D', 'D', 'B', 'C', 'A'],\n",
              " ['A', 'B', 'C', 'F', 'E', 'F', 'D', 'A'],\n",
              " ['A', 'B', 'B', 'C', 'B', 'D', 'E', 'A'],\n",
              " ['A', 'B', 'E', 'F', 'C', 'G', 'F', 'A'],\n",
              " ['A', 'E', 'E', 'B', 'C', 'E', 'G', 'A'],\n",
              " ['A', 'D', 'G', 'E', 'B', 'E', 'D', 'A'],\n",
              " ['A', 'G', 'G', 'F', 'G', 'B', 'F', 'A'],\n",
              " ['A', 'B', 'C', 'G', 'C', 'G', 'F', 'A'],\n",
              " ['A', 'B', 'E', 'D', 'E', 'F', 'D', 'A'],\n",
              " ['A', 'D', 'C', 'F', 'D', 'E', 'F', 'A'],\n",
              " ['A', 'G', 'C', 'C', 'E', 'G', 'C', 'A'],\n",
              " ['A', 'B', 'E', 'C', 'B', 'E', 'F', 'A'],\n",
              " ['A', 'G', 'C', 'C', 'C', 'G', 'F', 'A'],\n",
              " ['A', 'G', 'C', 'B', 'G', 'B', 'F', 'A'],\n",
              " ['A', 'D', 'C', 'E', 'E', 'D', 'F', 'A'],\n",
              " ['A', 'G', 'E', 'B', 'B', 'E', 'F', 'A'],\n",
              " ['A', 'G', 'D', 'G', 'F', 'D', 'G', 'A'],\n",
              " ['A', 'C', 'G', 'E', 'G', 'B', 'C', 'A'],\n",
              " ['A', 'E', 'D', 'E', 'B', 'D', 'E', 'A'],\n",
              " ['A', 'G', 'E', 'F', 'G', 'E', 'D', 'A'],\n",
              " ['A', 'B', 'C', 'F', 'D', 'B', 'C', 'A'],\n",
              " ['A', 'F', 'C', 'E', 'G', 'B', 'C', 'A'],\n",
              " ['A', 'F', 'F', 'E', 'G', 'B', 'F', 'A'],\n",
              " ['A', 'E', 'F', 'B', 'G', 'C', 'D', 'A'],\n",
              " ['A', 'E', 'F', 'B', 'G', 'C', 'D', 'A'],\n",
              " ['A', 'B', 'E', 'F', 'E', 'F', 'D', 'A'],\n",
              " ['A', 'B', 'C', 'B', 'D', 'B', 'C', 'A'],\n",
              " ['A', 'G', 'E', 'C', 'C', 'G', 'F', 'A'],\n",
              " ['A', 'E', 'E', 'D', 'F', 'E', 'D', 'A'],\n",
              " ['A', 'F', 'C', 'G', 'C', 'D', 'G', 'A'],\n",
              " ['A', 'F', 'F', 'E', 'E', 'F', 'D', 'A'],\n",
              " ['A', 'G', 'B', 'D', 'C', 'D', 'G', 'A'],\n",
              " ['A', 'B', 'B', 'E', 'B', 'C', 'E', 'A'],\n",
              " ['A', 'D', 'B', 'F', 'G', 'B', 'F', 'A'],\n",
              " ['A', 'D', 'C', 'E', 'C', 'E', 'G', 'A'],\n",
              " ['A', 'D', 'B', 'F', 'C', 'E', 'B', 'A'],\n",
              " ['A', 'D', 'G', 'F', 'E', 'G', 'C', 'A'],\n",
              " ['A', 'G', 'B', 'E', 'G', 'B', 'F', 'A'],\n",
              " ['A', 'E', 'C', 'E', 'F', 'E', 'C', 'A'],\n",
              " ['A', 'C', 'E', 'F', 'D', 'B', 'C', 'A'],\n",
              " ['A', 'E', 'E', 'F', 'B', 'D', 'E', 'A'],\n",
              " ['A', 'B', 'E', 'F', 'E', 'F', 'D', 'A'],\n",
              " ['A', 'B', 'C', 'B', 'D', 'B', 'C', 'A'],\n",
              " ['A', 'E', 'F', 'D', 'G', 'C', 'D', 'A'],\n",
              " ['A', 'F', 'F', 'E', 'C', 'G', 'F', 'A']]"
            ]
          },
          "metadata": {},
          "execution_count": 37
        }
      ]
    }
  ]
}