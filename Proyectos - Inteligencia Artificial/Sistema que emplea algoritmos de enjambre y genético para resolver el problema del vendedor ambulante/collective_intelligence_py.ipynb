{
  "nbformat": 4,
  "nbformat_minor": 0,
  "metadata": {
    "colab": {
      "provenance": []
    },
    "kernelspec": {
      "name": "python3",
      "display_name": "Python 3"
    },
    "language_info": {
      "name": "python"
    }
  },
  "cells": [
    {
      "cell_type": "markdown",
      "source": [
        "***KATERINE LISBETH RAFAEL BOURDIERD 2022-0088***"
      ],
      "metadata": {
        "id": "jhzUOZivqwOB"
      }
    },
    {
      "cell_type": "markdown",
      "source": [
        "*Su trabajo está en desarrollar un sistema que resuelva el problema del vendedor\n",
        "ambulante empleando un algoritmo de inteligencia de enjambre (1) y\n",
        "el algoritmo genético (1).*"
      ],
      "metadata": {
        "id": "OEPTGhFkrCIn"
      }
    },
    {
      "cell_type": "code",
      "source": [
        "cities = [\n",
        "    (0, 0),   # Ciudad 0\n",
        "    (1, 2),   # Ciudad 1\n",
        "    (3, 1),   # Ciudad 2\n",
        "    (5, 4),   # Ciudad 3\n",
        "    (2, 3)    # Ciudad 4\n",
        "]"
      ],
      "metadata": {
        "id": "R6xSFtmzDmU9"
      },
      "execution_count": 1,
      "outputs": []
    },
    {
      "cell_type": "markdown",
      "source": [
        "**Algoritmo de la colonia de hormigas (ACO)**"
      ],
      "metadata": {
        "id": "SwpwesdTqeTq"
      }
    },
    {
      "cell_type": "code",
      "source": [
        "import random"
      ],
      "metadata": {
        "id": "OPOsfAbayAkf"
      },
      "execution_count": 2,
      "outputs": []
    },
    {
      "cell_type": "code",
      "source": [
        "class TSPSwarmAlgorithm:\n",
        "    def __init__(self, cities):\n",
        "        self.cities = cities\n",
        "\n",
        "    def calculate_distance(self, city1, city2):\n",
        "        # Calcula la distancia euclidiana entre dos ciudades\n",
        "        x1, y1 = city1\n",
        "        x2, y2 = city2\n",
        "        return ((x2 - x1) ** 2 + (y2 - y1) ** 2) ** 0.5\n",
        "\n",
        "    def calculate_total_distance(self, solution):\n",
        "        # Calcula la distancia total de un recorrido\n",
        "        total_distance = 0\n",
        "        num_cities = len(solution)\n",
        "        for i in range(num_cities):\n",
        "            city1 = self.cities[solution[i]]\n",
        "            city2 = self.cities[solution[(i + 1) % num_cities]]\n",
        "            total_distance += self.calculate_distance(city1, city2)\n",
        "        return total_distance\n",
        "\n",
        "    def ant_colony_optimization(self, num_ants, num_iterations, alpha=1, beta=5, evaporation_rate=0.5):\n",
        "        num_cities = len(self.cities)\n",
        "\n",
        "        # Inicialización de las feromonas\n",
        "        pheromones = [[1] * num_cities for _ in range(num_cities)]\n",
        "\n",
        "        # Mejor solución global encontrada\n",
        "        best_solution = None\n",
        "        best_distance = float('inf')\n",
        "\n",
        "        for _ in range(num_iterations):\n",
        "            # Construcción de soluciones por cada hormiga\n",
        "            solutions = []\n",
        "            for _ in range(num_ants):\n",
        "                solution = []\n",
        "                unvisited_cities = list(range(num_cities))\n",
        "\n",
        "                current_city = random.choice(unvisited_cities)\n",
        "                unvisited_cities.remove(current_city)\n",
        "                solution.append(current_city)\n",
        "\n",
        "                while unvisited_cities:\n",
        "                    probabilities = []\n",
        "                    total_pheromone = 0\n",
        "\n",
        "                    for city in unvisited_cities:\n",
        "                        pheromone = pheromones[current_city][city]\n",
        "                        distance = self.calculate_distance(self.cities[current_city], self.cities[city])\n",
        "                        heuristic = 1 / distance\n",
        "                        probabilities.append((city, pheromone ** alpha * heuristic ** beta))\n",
        "                        total_pheromone += pheromone ** alpha * heuristic ** beta\n",
        "\n",
        "                    probabilities = [(city, prob / total_pheromone) for city, prob in probabilities]\n",
        "                    next_city = random.choices(population=[city for city, _ in probabilities], weights=[prob for _, prob in probabilities])[0]\n",
        "\n",
        "                    current_city = next_city\n",
        "                    unvisited_cities.remove(current_city)\n",
        "                    solution.append(current_city)\n",
        "\n",
        "                solutions.append(solution)\n",
        "\n",
        "            # Actualización de feromonas\n",
        "            for i in range(num_cities):\n",
        "                for j in range(num_cities):\n",
        "                    if i != j:\n",
        "                        pheromones[i][j] *= (1 - evaporation_rate)\n",
        "\n",
        "            for solution in solutions:\n",
        "                distance = self.calculate_total_distance(solution)\n",
        "\n",
        "                if distance < best_distance:\n",
        "                    best_solution = solution\n",
        "                    best_distance = distance\n",
        "\n",
        "                for i in range(num_cities):\n",
        "                    city1 = solution[i]\n",
        "                    city2 = solution[(i + 1) % num_cities]\n",
        "                    pheromones[city1][city2] += 1 / distance\n",
        "                    pheromones[city2][city1] += 1 / distance\n",
        "\n",
        "        return best_solution, best_distance\n"
      ],
      "metadata": {
        "id": "60_WeiL0mpvy"
      },
      "execution_count": 3,
      "outputs": []
    },
    {
      "cell_type": "code",
      "source": [
        "algorithm = TSPSwarmAlgorithm(cities)\n",
        "best_solution, best_distance = algorithm.ant_colony_optimization(num_ants=10, num_iterations=100)\n",
        "print(\"Best Solution:\", best_solution)\n",
        "print(\"Best Distance:\", best_distance)"
      ],
      "metadata": {
        "colab": {
          "base_uri": "https://localhost:8080/"
        },
        "id": "geJGQQGQmvjB",
        "outputId": "80cdb4fb-7f00-46c5-a02f-cdabc70598b5"
      },
      "execution_count": 4,
      "outputs": [
        {
          "output_type": "stream",
          "name": "stdout",
          "text": [
            "Best Solution: [1, 4, 3, 2, 0]\n",
            "Best Distance: 13.580388135673633\n"
          ]
        }
      ]
    },
    {
      "cell_type": "markdown",
      "source": [
        "**RESULTADO:**"
      ],
      "metadata": {
        "id": "sLhqaVZxzJue"
      }
    },
    {
      "cell_type": "markdown",
      "source": [
        "**Algoritmos genéticos**"
      ],
      "metadata": {
        "id": "yYYsFIymqoVl"
      }
    },
    {
      "cell_type": "code",
      "source": [
        "import random\n"
      ],
      "metadata": {
        "id": "sdZMhWP_wcHm"
      },
      "execution_count": 5,
      "outputs": []
    },
    {
      "cell_type": "code",
      "source": [
        "class TSPGeneticAlgorithm:\n",
        "    def __init__(self, cities):\n",
        "        self.cities = cities\n"
      ],
      "metadata": {
        "id": "0cLKCQXawdMs"
      },
      "execution_count": 6,
      "outputs": []
    },
    {
      "cell_type": "code",
      "source": [
        "def create_individual(self):\n",
        "    individual = list(self.cities)\n",
        "    random.shuffle(individual)\n",
        "    return individual\n"
      ],
      "metadata": {
        "id": "d-fXy8F4wgHU"
      },
      "execution_count": 7,
      "outputs": []
    },
    {
      "cell_type": "code",
      "source": [
        "def create_population(self, population_size):\n",
        "    population = []\n",
        "    for _ in range(population_size):\n",
        "        individual = self.create_individual()\n",
        "        population.append(individual)\n",
        "    return population\n"
      ],
      "metadata": {
        "id": "GoIU8-_jwj07"
      },
      "execution_count": 8,
      "outputs": []
    },
    {
      "cell_type": "code",
      "source": [
        "def calculate_distance(self, city1, city2):\n",
        "    x1, y1 = city1\n",
        "    x2, y2 = city2\n",
        "    return ((x2 - x1) ** 2 + (y2 - y1) ** 2) ** 0.5\n",
        "\n",
        "def calculate_fitness(self, individual):\n",
        "    total_distance = 0\n",
        "    for i in range(len(individual) - 1):\n",
        "        city1 = individual[i]\n",
        "        city2 = individual[i + 1]\n",
        "        distance = self.calculate_distance(city1, city2)\n",
        "        total_distance += distance\n",
        "    return 1 / total_distance\n"
      ],
      "metadata": {
        "id": "K5wANTfPwnGA"
      },
      "execution_count": 9,
      "outputs": []
    },
    {
      "cell_type": "code",
      "source": [
        "def crossover(self, parent1, parent2):\n",
        "    crossover_point = random.randint(0, len(parent1) - 1)\n",
        "    child = parent1[:crossover_point]\n",
        "    for city in parent2:\n",
        "        if city not in child:\n",
        "            child.append(city)\n",
        "    return child\n"
      ],
      "metadata": {
        "id": "pN8dGZoZwqX-"
      },
      "execution_count": 10,
      "outputs": []
    },
    {
      "cell_type": "code",
      "source": [
        "def mutate(self, individual, mutation_probability):\n",
        "    for i in range(len(individual)):\n",
        "        if random.random() < mutation_probability:\n",
        "            j = random.randint(0, len(individual) - 1)\n",
        "            individual[i], individual[j] = individual[j], individual[i]\n",
        "    return individual\n"
      ],
      "metadata": {
        "id": "-wT-OsKQwsi7"
      },
      "execution_count": 11,
      "outputs": []
    },
    {
      "cell_type": "code",
      "source": [
        "def select_best_parents(self, population, num_parents):\n",
        "    parents = []\n",
        "    population_sorted = sorted(population, key=lambda individual: self.calculate_fitness(individual), reverse=True)\n",
        "    for i in range(num_parents):\n",
        "        parents.append(population_sorted[i])\n",
        "    return parents\n"
      ],
      "metadata": {
        "id": "sE7Q8DRvwvWh"
      },
      "execution_count": 12,
      "outputs": []
    },
    {
      "cell_type": "code",
      "source": [
        "def generate_new_generation(self, population, num_parents, population_size, mutation_probability):\n",
        "    new_offspring = []\n",
        "    parents = self.select_best_parents(population, num_parents)\n",
        "    num_offspring = population_size - num_parents\n",
        "    for _ in range(num_offspring):\n",
        "        parent1 = random.choice(parents)\n",
        "        parent2 = random.choice(parents)\n",
        "        offspring = self.crossover(parent1, parent2)\n",
        "        mutated_offspring = self.mutate(offspring, mutation_probability)\n",
        "        new_offspring.append(mutated_offspring)\n",
        "    new_generation = parents + new_offspring\n",
        "    return new_generation\n"
      ],
      "metadata": {
        "id": "p__bwVxfwxrl"
      },
      "execution_count": 13,
      "outputs": []
    },
    {
      "cell_type": "code",
      "source": [
        "    def find_best_solution(self, population_size, num_generations, num_parents, mutation_probability):\n",
        "        population = self.create_population(population_size)\n",
        "        best_solution = None\n",
        "        best_fitness = 0\n",
        "        for _ in range(num_generations):\n",
        "            population = self.generate_new_generation(population, num_parents, population_size, mutation_probability)\n",
        "            for individual in population:\n",
        "                fitness = self.calculate_fitness(individual)\n",
        "                if fitness > best_fitness:\n",
        "                    best_solution = individual\n",
        "                    best_fitness = fitness\n",
        "        return best_solution\n",
        "\n",
        "        algorithm = TSPGeneticAlgorithm(cities)\n",
        "        best_solution = algorithm.find_best_solution(population_size=100, num_generations=1000, num_parents=20, mutation_probability=0.1)\n",
        "\n",
        "        total_distance = 0\n",
        "        visited_cities = []\n",
        "\n",
        "        for i in range(len(best_solution) - 1):\n",
        "          city1 = best_solution[i]\n",
        "          city2 = best_solution[i + 1]\n",
        "          distance = algorithm.calculate_distance(city1, city2)\n",
        "          total_distance += distance\n",
        "          visited_cities.append(city1)\n",
        "\n",
        "        visited_cities.append(best_solution[-1])\n",
        "        print(\"Best solution found:\")\n",
        "        for city in visited_cities:\n",
        "            print(\"City:\", city)\n",
        "        print(\"Best Distance:\", total_distance)"
      ],
      "metadata": {
        "id": "JWfIAkEA4-lu"
      },
      "execution_count": 15,
      "outputs": []
    }
  ]
}